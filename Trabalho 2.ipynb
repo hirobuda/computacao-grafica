{
 "cells": [
  {
   "cell_type": "markdown",
   "metadata": {},
   "source": [
    "# Trabalho 2"
   ]
  },
  {
   "cell_type": "code",
   "execution_count": 1,
   "metadata": {},
   "outputs": [],
   "source": [
    "import glfw\n",
    "from OpenGL.GL import *\n",
    "import OpenGL.GL.shaders\n",
    "import numpy as np\n",
    "import glm\n",
    "import math\n",
    "from PIL import Image\n",
    "import os"
   ]
  },
  {
   "cell_type": "markdown",
   "metadata": {},
   "source": [
    "### Inicializando janela"
   ]
  },
  {
   "cell_type": "code",
   "execution_count": 2,
   "metadata": {},
   "outputs": [],
   "source": [
    "glfw.init()\n",
    "glfw.window_hint(glfw.VISIBLE, glfw.FALSE);\n",
    "altura = 1600\n",
    "largura = 1200\n",
    "window = glfw.create_window(largura, altura, \"Trabalho 2\", None, None)\n",
    "glfw.make_context_current(window)"
   ]
  },
  {
   "cell_type": "code",
   "execution_count": 3,
   "metadata": {},
   "outputs": [],
   "source": [
    "vertex_code = \"\"\"\n",
    "        attribute vec3 position;\n",
    "        attribute vec2 texture_coord;\n",
    "        attribute vec3 normals;\n",
    "        \n",
    "       \n",
    "        varying vec2 out_texture;\n",
    "        varying vec3 out_fragPos;\n",
    "        varying vec3 out_normal;\n",
    "                \n",
    "        uniform mat4 model;\n",
    "        uniform mat4 view;\n",
    "        uniform mat4 projection;        \n",
    "        \n",
    "        void main(){\n",
    "            gl_Position = projection * view * model * vec4(position,1.0);\n",
    "            out_texture = vec2(texture_coord);\n",
    "            out_fragPos = vec3(  model * vec4(position, 1.0));\n",
    "            out_normal = vec3( model *vec4(normals, 1.0));            \n",
    "        }\n",
    "        \"\"\""
   ]
  },
  {
   "cell_type": "code",
   "execution_count": 4,
   "metadata": {},
   "outputs": [],
   "source": [
    "fragment_code = \"\"\"\n",
    "\n",
    "        // parametro com a cor da(s) fonte(s) de iluminacao\n",
    "        uniform vec3 lightPos; // define coordenadas de posicao da luz\n",
    "        vec3 lightColor = vec3(1.0, 1.0, 1.0);\n",
    "        \n",
    "        // parametros da iluminacao ambiente e difusa\n",
    "        uniform float ka; // coeficiente de reflexao ambiente\n",
    "        uniform float kd; // coeficiente de reflexao difusa\n",
    "        \n",
    "        // parametros da iluminacao especular\n",
    "        uniform vec3 viewPos; // define coordenadas com a posicao da camera/observador\n",
    "        uniform float ks; // coeficiente de reflexao especular\n",
    "        uniform float ns; // expoente de reflexao especular\n",
    "        \n",
    "\n",
    "\n",
    "        // parametros recebidos do vertex shader\n",
    "        varying vec2 out_texture; // recebido do vertex shader\n",
    "        varying vec3 out_normal; // recebido do vertex shader\n",
    "        varying vec3 out_fragPos; // recebido do vertex shader\n",
    "        uniform sampler2D samplerTexture;\n",
    "        \n",
    "        \n",
    "        \n",
    "        void main(){\n",
    "        \n",
    "            // calculando reflexao ambiente\n",
    "            vec3 ambient = ka * lightColor;             \n",
    "        \n",
    "            // calculando reflexao difusa\n",
    "            vec3 norm = normalize(out_normal); // normaliza vetores perpendiculares\n",
    "            vec3 lightDir = normalize(lightPos - out_fragPos); // direcao da luz\n",
    "            float diff = max(dot(norm, lightDir), 0.0); // verifica limite angular (entre 0 e 90)\n",
    "            vec3 diffuse = kd * diff * lightColor; // iluminacao difusa\n",
    "            \n",
    "            // calculando reflexao especular\n",
    "            vec3 viewDir = normalize(viewPos - out_fragPos); // direcao do observador/camera\n",
    "            vec3 reflectDir = normalize(reflect(-lightDir, norm)); // direcao da reflexao\n",
    "            float spec = pow(max(dot(viewDir, reflectDir), 0.0), ns);\n",
    "            vec3 specular = ks * spec * lightColor;             \n",
    "            \n",
    "            // aplicando o modelo de iluminacao\n",
    "            vec4 texture = texture2D(samplerTexture, out_texture);\n",
    "            vec4 result = vec4((ambient + diffuse + specular),1.0) * texture; // aplica iluminacao\n",
    "            gl_FragColor = result;\n",
    "\n",
    "        }\n",
    "        \"\"\""
   ]
  },
  {
   "cell_type": "markdown",
   "metadata": {},
   "source": [
    "### Requisitando slot para a GPU para nossos programas Vertex e Fragment Shaders"
   ]
  },
  {
   "cell_type": "code",
   "execution_count": 5,
   "metadata": {},
   "outputs": [],
   "source": [
    "# Request a program and shader slots from GPU\n",
    "program  = glCreateProgram()\n",
    "vertex   = glCreateShader(GL_VERTEX_SHADER)\n",
    "fragment = glCreateShader(GL_FRAGMENT_SHADER)"
   ]
  },
  {
   "cell_type": "markdown",
   "metadata": {},
   "source": [
    "### Associando nosso código-fonte aos slots solicitados"
   ]
  },
  {
   "cell_type": "code",
   "execution_count": 6,
   "metadata": {},
   "outputs": [],
   "source": [
    "# Set shaders source\n",
    "glShaderSource(vertex, vertex_code)\n",
    "glShaderSource(fragment, fragment_code)"
   ]
  },
  {
   "cell_type": "markdown",
   "metadata": {},
   "source": [
    "### Compilando o Vertex Shader\n",
    "\n",
    "Se há algum erro em nosso programa Vertex Shader, nosso app para por aqui."
   ]
  },
  {
   "cell_type": "code",
   "execution_count": 7,
   "metadata": {},
   "outputs": [],
   "source": [
    "# Compile shaders\n",
    "glCompileShader(vertex)\n",
    "if not glGetShaderiv(vertex, GL_COMPILE_STATUS):\n",
    "    error = glGetShaderInfoLog(vertex).decode()\n",
    "    print(error)\n",
    "    raise RuntimeError(\"Erro de compilacao do Vertex Shader\")"
   ]
  },
  {
   "cell_type": "markdown",
   "metadata": {},
   "source": [
    "### Compilando o Fragment Shader\n",
    "\n",
    "Se há algum erro em nosso programa Fragment Shader, nosso app para por aqui."
   ]
  },
  {
   "cell_type": "code",
   "execution_count": 8,
   "metadata": {},
   "outputs": [],
   "source": [
    "glCompileShader(fragment)\n",
    "if not glGetShaderiv(fragment, GL_COMPILE_STATUS):\n",
    "    error = glGetShaderInfoLog(fragment).decode()\n",
    "    print(error)\n",
    "    raise RuntimeError(\"Erro de compilacao do Fragment Shader\")"
   ]
  },
  {
   "cell_type": "markdown",
   "metadata": {},
   "source": [
    "### Associando os programas compilado ao programa principal"
   ]
  },
  {
   "cell_type": "code",
   "execution_count": 9,
   "metadata": {},
   "outputs": [],
   "source": [
    "# Attach shader objects to the program\n",
    "glAttachShader(program, vertex)\n",
    "glAttachShader(program, fragment)"
   ]
  },
  {
   "cell_type": "markdown",
   "metadata": {},
   "source": [
    "### Linkagem do programa"
   ]
  },
  {
   "cell_type": "code",
   "execution_count": 10,
   "metadata": {},
   "outputs": [],
   "source": [
    "# Build program\n",
    "glLinkProgram(program)\n",
    "if not glGetProgramiv(program, GL_LINK_STATUS):\n",
    "    print(glGetProgramInfoLog(program))\n",
    "    raise RuntimeError('Linking error')\n",
    "    \n",
    "# Make program the default program\n",
    "glUseProgram(program)"
   ]
  },
  {
   "cell_type": "code",
   "execution_count": 11,
   "metadata": {},
   "outputs": [],
   "source": [
    "def load_model_from_file(filename):\n",
    "    \"\"\"Loads a Wavefront OBJ file. \"\"\"\n",
    "    objects = {}\n",
    "    vertices = []\n",
    "    normals = []\n",
    "    texture_coords = []\n",
    "    faces = []\n",
    "\n",
    "    material = None\n",
    "\n",
    "    # abre o arquivo obj para leitura\n",
    "    for line in open(filename, \"r\"): ## para cada linha do arquivo .obj\n",
    "        if line.startswith('#'): continue ## ignora comentarios\n",
    "        values = line.split() # quebra a linha por espaço\n",
    "        if not values: continue\n",
    "\n",
    "\n",
    "        ### recuperando vertices\n",
    "        if values[0] == 'v':\n",
    "            vertices.append(values[1:4])\n",
    "\n",
    "        ### recuperando vertices\n",
    "        if values[0] == 'vn':\n",
    "            normals.append(values[1:4])\n",
    "\n",
    "        ### recuperando coordenadas de textura\n",
    "        elif values[0] == 'vt':\n",
    "            texture_coords.append(values[1:3])\n",
    "\n",
    "        ### recuperando faces \n",
    "        elif values[0] in ('usemtl', 'usemat'):\n",
    "            material = values[1]\n",
    "        elif values[0] == 'f':\n",
    "            face = []\n",
    "            face_texture = []\n",
    "            face_normals = []\n",
    "            for v in values[1:]:\n",
    "                w = v.split('/')\n",
    "                face.append(int(w[0]))\n",
    "                face_normals.append(int(w[2]))\n",
    "                if len(w) >= 2 and len(w[1]) > 0:\n",
    "                    face_texture.append(int(w[1]))\n",
    "                else:\n",
    "                    face_texture.append(0)\n",
    "\n",
    "            faces.append((face, face_texture, face_normals, material))\n",
    "\n",
    "    model = {}\n",
    "    model['vertices'] = vertices\n",
    "    model['texture'] = texture_coords\n",
    "    model['faces'] = faces\n",
    "    model['normals'] = normals\n",
    "\n",
    "    return model"
   ]
  },
  {
   "cell_type": "code",
   "execution_count": 12,
   "metadata": {},
   "outputs": [],
   "source": [
    "glEnable(GL_TEXTURE_2D)\n",
    "textures = glGenTextures(10)\n",
    "\n",
    "def load_texture_from_file(texture_id, img_textura):\n",
    "    glBindTexture(GL_TEXTURE_2D, texture_id)\n",
    "    glTexParameteri(GL_TEXTURE_2D, GL_TEXTURE_WRAP_S, GL_REPEAT)\n",
    "    glTexParameteri(GL_TEXTURE_2D, GL_TEXTURE_WRAP_T, GL_REPEAT)\n",
    "    glTexParameteri(GL_TEXTURE_2D, GL_TEXTURE_MIN_FILTER, GL_LINEAR)\n",
    "    glTexParameteri(GL_TEXTURE_2D, GL_TEXTURE_MAG_FILTER, GL_LINEAR)\n",
    "    img = Image.open(img_textura)\n",
    "    img_width = img.size[0]\n",
    "    img_height = img.size[1]\n",
    "    image_data = img.tobytes(\"raw\", \"RGB\", 0, -1)\n",
    "    #image_data = np.array(list(img.getdata()), np.uint8)\n",
    "    glTexImage2D(GL_TEXTURE_2D, 0, GL_RGB, img_width, img_height, 0, GL_RGB, GL_UNSIGNED_BYTE, image_data)"
   ]
  },
  {
   "cell_type": "markdown",
   "metadata": {},
   "source": [
    "### Vamos carregar cada modelo e definir funções para desenhá-los"
   ]
  },
  {
   "cell_type": "code",
   "execution_count": 13,
   "metadata": {},
   "outputs": [
    {
     "name": "stdout",
     "output_type": "stream",
     "text": [
      "Processando modelo car.obj. Vertice inicial: 0\n",
      "Processando modelo car.obj. Vertice final: 9156\n",
      "-----------------------------------\n",
      "Processando modelo chair.obj. Vertice inicial: 9156\n",
      "Processando modelo chair.obj. Vertice final: 16632\n",
      "-----------------------------------\n",
      "Processando modelo cube.obj. Vertice inicial: 16632\n",
      "Processando modelo cube.obj. Vertice final: 16668\n",
      "-----------------------------------\n",
      "Processando modelo house.obj. Vertice inicial: 16668\n",
      "Processando modelo house.obj. Vertice final: 20559\n",
      "-----------------------------------\n",
      "Processando modelo light.obj. Vertice inicial: 20559\n",
      "Processando modelo light.obj. Vertice final: 20595\n",
      "-----------------------------------\n",
      "Processando modelo mug.obj. Vertice inicial: 20595\n",
      "Processando modelo mug.obj. Vertice final: 55437\n",
      "-----------------------------------\n",
      "Processando modelo sky.obj. Vertice inicial: 55437\n",
      "Processando modelo sky.obj. Vertice final: 55473\n",
      "-----------------------------------\n",
      "Processando modelo table.obj. Vertice inicial: 55473\n",
      "Processando modelo table.obj. Vertice final: 59301\n",
      "-----------------------------------\n",
      "Processando modelo terrain.obj. Vertice inicial: 59301\n",
      "Processando modelo terrain.obj. Vertice final: 156075\n",
      "-----------------------------------\n",
      "Processando modelo trees.obj. Vertice inicial: 156075\n",
      "Processando modelo trees.obj. Vertice final: 158772\n",
      "-----------------------------------\n",
      "carregando textura: car.png\n",
      "-----------------------------------\n",
      "carregando textura: chair.jpg\n",
      "-----------------------------------\n",
      "carregando textura: cube.jpg\n",
      "-----------------------------------\n",
      "carregando textura: house.png\n",
      "-----------------------------------\n",
      "carregando textura: light.png\n",
      "-----------------------------------\n",
      "carregando textura: mug.png\n",
      "-----------------------------------\n",
      "carregando textura: sky.png\n",
      "-----------------------------------\n",
      "carregando textura: table.jpg\n",
      "-----------------------------------\n",
      "carregando textura: terrain.png\n",
      "-----------------------------------\n",
      "carregando textura: trees.png\n",
      "-----------------------------------\n"
     ]
    }
   ],
   "source": [
    "vertices_list = []    \n",
    "normals_list = []    \n",
    "textures_coord_list = []\n",
    "vertices_dict = []\n",
    "\n",
    "def load_model(path):\n",
    "    modelo = load_model_from_file(path)\n",
    "    model_name = path.split('/')[-1]\n",
    "    ### inserindo vertices do modelo no vetor de vertices\n",
    "    print(f'Processando modelo {model_name}. Vertice inicial:',len(vertices_list))\n",
    "    vertices_dict.append(len(vertices_list))\n",
    "    for face in modelo['faces']:\n",
    "        for vertice_id in face[0]:\n",
    "            vertices_list.append( modelo['vertices'][vertice_id-1] )\n",
    "        for texture_id in face[1]:\n",
    "            textures_coord_list.append( modelo['texture'][texture_id-1] )\n",
    "        for normal_id in face[2]:\n",
    "            normals_list.append( modelo['normals'][normal_id-1] )\n",
    "    print(f'Processando modelo {model_name}. Vertice final:',len(vertices_list))\n",
    "    vertices_dict.append(len(vertices_list))\n",
    "    ### inserindo coordenadas de textura do modelo no vetor de texturas\n",
    "    \n",
    "    \n",
    "for i in sorted(os.listdir(\"./meshes\")):\n",
    "    load_model(\"./meshes\"+'/'+i)\n",
    "    print(35*'-')\n",
    "    \n",
    "### carregando textura equivalente e definindo um id (buffer): use um id por textura!\n",
    "texture_path = sorted(os.listdir(\"./textures/\"))\n",
    "light_id = 0\n",
    "for i in range(len(texture_path)):\n",
    "    load_texture_from_file(i, \"./textures/\"+\"/\"+texture_path[i])\n",
    "    if \"luz\" in texture_path[i]:\n",
    "        light_id = i\n",
    "    print(\"carregando textura:\", texture_path[i])\n",
    "    print(35*'-')"
   ]
  },
  {
   "cell_type": "code",
   "execution_count": 14,
   "metadata": {
    "scrolled": true
   },
   "outputs": [],
   "source": [
    "vertices_dict = np.unique(vertices_dict)\n",
    "vertices_dict = list(zip(vertices_dict, vertices_dict[1:]))"
   ]
  },
  {
   "cell_type": "code",
   "execution_count": 15,
   "metadata": {},
   "outputs": [],
   "source": [
    "# Request a buffer slot from GPU\n",
    "buffer = glGenBuffers(10)"
   ]
  },
  {
   "cell_type": "markdown",
   "metadata": {},
   "source": [
    "###  Enviando coordenadas de vértices para a GPU"
   ]
  },
  {
   "cell_type": "code",
   "execution_count": 16,
   "metadata": {},
   "outputs": [],
   "source": [
    "vertices = np.zeros(len(vertices_list), [(\"position\", np.float32, 3)])\n",
    "vertices['position'] = vertices_list\n",
    "\n",
    "# Upload data\n",
    "glBindBuffer(GL_ARRAY_BUFFER, buffer[0])\n",
    "glBufferData(GL_ARRAY_BUFFER, vertices.nbytes, vertices, GL_STATIC_DRAW)\n",
    "stride = vertices.strides[0]\n",
    "offset = ctypes.c_void_p(0)\n",
    "loc_vertices = glGetAttribLocation(program, \"position\")\n",
    "glEnableVertexAttribArray(loc_vertices)\n",
    "glVertexAttribPointer(loc_vertices, 3, GL_FLOAT, False, stride, offset)"
   ]
  },
  {
   "cell_type": "markdown",
   "metadata": {},
   "source": [
    "###  Enviando coordenadas de textura para a GPU"
   ]
  },
  {
   "cell_type": "code",
   "execution_count": 17,
   "metadata": {},
   "outputs": [],
   "source": [
    "textures = np.zeros(len(textures_coord_list), [(\"position\", np.float32, 2)]) # duas coordenadas\n",
    "textures['position'] = textures_coord_list\n",
    "\n",
    "# Upload data\n",
    "glBindBuffer(GL_ARRAY_BUFFER, buffer[1])\n",
    "glBufferData(GL_ARRAY_BUFFER, textures.nbytes, textures, GL_STATIC_DRAW)\n",
    "stride = textures.strides[0]\n",
    "offset = ctypes.c_void_p(0)\n",
    "loc_texture_coord = glGetAttribLocation(program, \"texture_coord\")\n",
    "glEnableVertexAttribArray(loc_texture_coord)\n",
    "glVertexAttribPointer(loc_texture_coord, 2, GL_FLOAT, False, stride, offset)"
   ]
  },
  {
   "cell_type": "markdown",
   "metadata": {},
   "source": [
    "###  Enviando dados de Iluminação a GPU"
   ]
  },
  {
   "cell_type": "markdown",
   "metadata": {},
   "source": [
    "#### Dados de iluminação: vetores normais"
   ]
  },
  {
   "cell_type": "code",
   "execution_count": 18,
   "metadata": {},
   "outputs": [],
   "source": [
    "normals = np.zeros(len(normals_list), [(\"position\", np.float32, 3)]) # três coordenadas\n",
    "normals['position'] = normals_list\n",
    "\n",
    "# Upload coordenadas normals de cada vertice\n",
    "glBindBuffer(GL_ARRAY_BUFFER, buffer[2])\n",
    "glBufferData(GL_ARRAY_BUFFER, normals.nbytes, normals, GL_STATIC_DRAW)\n",
    "stride = normals.strides[0]\n",
    "offset = ctypes.c_void_p(0)\n",
    "loc_normals_coord = glGetAttribLocation(program, \"normals\")\n",
    "glEnableVertexAttribArray(loc_normals_coord)\n",
    "glVertexAttribPointer(loc_normals_coord, 3, GL_FLOAT, False, stride, offset)"
   ]
  },
  {
   "cell_type": "markdown",
   "metadata": {},
   "source": [
    "### Desenhando nossos modelos\n",
    "* Cada modelo tem um Model para posicioná-los no mundo.\n",
    "* É necessário saber qual a posição inicial e total de vértices de cada modelo.\n",
    "* É necessário indicar qual o ID da textura do modelo."
   ]
  },
  {
   "cell_type": "code",
   "execution_count": 19,
   "metadata": {},
   "outputs": [],
   "source": [
    "def draw_model(model_id, t_x=0., t_y=0., t_z=0., r_x = 0.0, r_y = 1.0, r_z = 0.0):\n",
    "    # aplica a matriz model\n",
    "    angle = 0.0\n",
    "            \n",
    "    # escala\n",
    "    s_x = 1.0; s_y = 1.0; s_z = 1.0;\n",
    "    mat_model = model(angle, r_x, r_y, r_z, t_x, t_y, t_z, s_x, s_y, s_z)\n",
    "    loc_model = glGetUniformLocation(program, \"model\")\n",
    "    glUniformMatrix4fv(loc_model, 1, GL_TRUE, mat_model)\n",
    "       \n",
    "    #### define parametros de ilumincao do modelo\n",
    "    ka = 0.3 # coeficiente de reflexao ambiente do modelo\n",
    "    kd = 0.3 # coeficiente de reflexao difusa do modelo\n",
    "    ks = 0.9 # coeficiente de reflexao especular do modelo\n",
    "    ns = 64.0 # expoente de reflexao especular\n",
    "    \n",
    "    loc_ka = glGetUniformLocation(program, \"ka\") # recuperando localizacao da variavel ka na GPU\n",
    "    glUniform1f(loc_ka, ka) ### envia ka pra gpu\n",
    "    \n",
    "    loc_kd = glGetUniformLocation(program, \"kd\") # recuperando localizacao da variavel kd na GPU\n",
    "    glUniform1f(loc_kd, kd) ### envia kd pra gpu    \n",
    "    \n",
    "    loc_ks = glGetUniformLocation(program, \"ks\") # recuperando localizacao da variavel ks na GPU\n",
    "    glUniform1f(loc_ks, ks) ### envia ks pra gpu        \n",
    "    \n",
    "    loc_ns = glGetUniformLocation(program, \"ns\") # recuperando localizacao da variavel ns na GPU\n",
    "    glUniform1f(loc_ns, ns) ### envia ns pra gpu        \n",
    "    \n",
    "    if model_id == light_id:\n",
    "        loc_light_pos = glGetUniformLocation(program, \"lightPos\") # recuperando localizacao da variavel lightPos na GPU\n",
    "        glUniform3f(loc_light_pos, t_x, t_y, t_z) ### posicao da fonte de luz\n",
    "        ka = 1\n",
    "        kd = 1\n",
    "        ks = 1\n",
    "        ns = 1000.0\n",
    "    #define id da textura do modelo\n",
    "    glBindTexture(GL_TEXTURE_2D, model_id)\n",
    "    \n",
    "    # desenha o modelo\n",
    "    glDrawArrays(GL_TRIANGLES, vertices_dict[model_id][0], \n",
    "                 vertices_dict[model_id][1]-vertices_dict[model_id][0]) ## renderizando"
   ]
  },
  {
   "cell_type": "markdown",
   "metadata": {},
   "source": [
    "### Eventos para modificar a posição da câmera.\n",
    "\n",
    "* Usei as teclas A, S, D e W para movimentação no espaço tridimensional.\n",
    "* Usei a posição do mouse para \"direcionar\" a câmera."
   ]
  },
  {
   "cell_type": "code",
   "execution_count": 20,
   "metadata": {},
   "outputs": [],
   "source": [
    "cameraPos   = glm.vec3(1.0,  2.0,  1.0);\n",
    "cameraFront = glm.vec3(0.0,  0.0, -1.0);\n",
    "cameraUp    = glm.vec3(0.0,  1.0,  0.0);\n",
    "car_tz = 0.0\n",
    "polygonal_mode = False\n",
    "\n",
    "def key_event(window,key,scancode,action,mods):\n",
    "    global cameraPos, cameraFront, cameraUp, polygonal_mode, car_tz\n",
    "    \n",
    "    if key == 262 and (action==1 or action==2): # tecla right\n",
    "        car_tz += 0.1\n",
    "    if key == 263 and (action==1 or action==2): # tecla right\n",
    "        car_tz -= 0.1\n",
    "    \n",
    "    cameraSpeed = 0.1\n",
    "    if glm.l1Norm(cameraPos) <= 100:\n",
    "        if key == 87 and (action==1 or action==2): # tecla W\n",
    "            cameraPos += cameraSpeed * cameraFront\n",
    "\n",
    "        if key == 83 and (action==1 or action==2): # tecla S\n",
    "            cameraPos -= cameraSpeed * cameraFront\n",
    "\n",
    "        if key == 65 and (action==1 or action==2): # tecla A\n",
    "            cameraPos -= glm.normalize(glm.cross(cameraFront, cameraUp)) * cameraSpeed\n",
    "\n",
    "        if key == 68 and (action==1 or action==2): # tecla D\n",
    "            cameraPos += glm.normalize(glm.cross(cameraFront, cameraUp)) * cameraSpeed\n",
    "\n",
    "        if key == 80 and action==1 and polygonal_mode==True:\n",
    "            polygonal_mode=False\n",
    "        else:\n",
    "            if key == 80 and action==1 and polygonal_mode==False:\n",
    "                polygonal_mode=True\n",
    "        \n",
    "firstMouse = True\n",
    "yaw = -90.0 \n",
    "pitch = 0.0\n",
    "lastX =  largura/2\n",
    "lastY =  altura/2\n",
    "\n",
    "def mouse_event(window, xpos, ypos):\n",
    "    global firstMouse, cameraFront, yaw, pitch, lastX, lastY\n",
    "    if firstMouse:\n",
    "        lastX = xpos\n",
    "        lastY = ypos\n",
    "        firstMouse = False\n",
    "\n",
    "    xoffset = xpos - lastX\n",
    "    yoffset = lastY - ypos\n",
    "    lastX = xpos\n",
    "    lastY = ypos\n",
    "\n",
    "    sensitivity = 0.3 \n",
    "    xoffset *= sensitivity\n",
    "    yoffset *= sensitivity\n",
    "\n",
    "    yaw += xoffset;\n",
    "    pitch += yoffset;\n",
    "\n",
    "    \n",
    "    if pitch >= 90.0: pitch = 90.0\n",
    "    if pitch <= -90.0: pitch = -90.0\n",
    "\n",
    "    front = glm.vec3()\n",
    "    front.x = math.cos(glm.radians(yaw)) * math.cos(glm.radians(pitch))\n",
    "    front.y = math.sin(glm.radians(pitch))\n",
    "    front.z = math.sin(glm.radians(yaw)) * math.cos(glm.radians(pitch))\n",
    "    cameraFront = glm.normalize(front)\n",
    "    \n",
    "glfw.set_key_callback(window,key_event)\n",
    "glfw.set_cursor_pos_callback(window, mouse_event)"
   ]
  },
  {
   "cell_type": "markdown",
   "metadata": {},
   "source": [
    "### Matrizes Model, View e Projection\n",
    "\n",
    "Teremos uma aula específica para entender o seu funcionamento."
   ]
  },
  {
   "cell_type": "code",
   "execution_count": 21,
   "metadata": {},
   "outputs": [],
   "source": [
    "def model(angle, r_x, r_y, r_z, t_x, t_y, t_z, s_x, s_y, s_z):\n",
    "    \n",
    "    angle = math.radians(angle)\n",
    "    \n",
    "    matrix_transform = glm.mat4(1.0) # instanciando uma matriz identidade\n",
    "       \n",
    "    # aplicando rotacao\n",
    "    matrix_transform = glm.rotate(matrix_transform, angle, glm.vec3(r_x, r_y, r_z))\n",
    "        \n",
    "    # aplicando translacao\n",
    "    matrix_transform = glm.translate(matrix_transform, glm.vec3(t_x, t_y, t_z))    \n",
    "    \n",
    "    # aplicando escala\n",
    "    matrix_transform = glm.scale(matrix_transform, glm.vec3(s_x, s_y, s_z))\n",
    "    \n",
    "    matrix_transform = np.array(matrix_transform)\n",
    "    \n",
    "    return matrix_transform\n",
    "\n",
    "def view():\n",
    "    global cameraPos, cameraFront, cameraUp\n",
    "    mat_view = glm.lookAt(cameraPos, cameraPos + cameraFront, cameraUp);\n",
    "    mat_view = np.array(mat_view)\n",
    "    return mat_view\n",
    "\n",
    "def projection():\n",
    "    global altura, largura\n",
    "    # perspective parameters: fovy, aspect, near, far\n",
    "    mat_projection = glm.perspective(glm.radians(45.0), largura/altura, 0.1, 1000.0)\n",
    "    mat_projection = np.array(mat_projection)    \n",
    "    return mat_projection"
   ]
  },
  {
   "cell_type": "markdown",
   "metadata": {},
   "source": [
    "### Nesse momento, exibimos a janela."
   ]
  },
  {
   "cell_type": "code",
   "execution_count": 22,
   "metadata": {},
   "outputs": [],
   "source": [
    "glfw.show_window(window)\n",
    "glfw.set_cursor_pos(window, lastX, lastY)"
   ]
  },
  {
   "cell_type": "markdown",
   "metadata": {},
   "source": [
    "### Loop principal da janela.\n",
    "Enquanto a janela não for fechada, esse laço será executado. É neste espaço que trabalhamos com algumas interações com a OpenGL."
   ]
  },
  {
   "cell_type": "code",
   "execution_count": 24,
   "metadata": {},
   "outputs": [],
   "source": [
    "glEnable(GL_DEPTH_TEST) ### importante para 3D\n",
    "   \n",
    "ang = 0.1\n",
    "while not glfw.window_should_close(window):\n",
    "\n",
    "    glfw.poll_events()\n",
    "    glClear(GL_COLOR_BUFFER_BIT | GL_DEPTH_BUFFER_BIT)\n",
    "    glClearColor(0.2, 0.2, 0.2, 1.0)\n",
    "    \n",
    "    if polygonal_mode==True:\n",
    "        glPolygonMode(GL_FRONT_AND_BACK,GL_LINE)\n",
    "    if polygonal_mode==False:\n",
    "        glPolygonMode(GL_FRONT_AND_BACK,GL_FILL)\n",
    "    \n",
    "    ang += 0.01\n",
    "    \n",
    "    draw_model(0, t_z=car_tz)#carro\n",
    "    draw_model(1)#cadeira\n",
    "    draw_model(2, t_y=3., t_z=np.cos(ang)*5, r_z=np.cos(5*ang))#caixa\n",
    "    draw_model(3)#casa\n",
    "    draw_model(4, np.cos(ang)*5, 3.0 , np.sin(ang)*5)#luz\n",
    "    draw_model(5)#caneca\n",
    "    draw_model(6)#ceu\n",
    "    draw_model(7)#mesa\n",
    "    draw_model(8)#terreno\n",
    "    draw_model(9)#arvores\n",
    "    \n",
    "    mat_view = view()\n",
    "    loc_view = glGetUniformLocation(program, \"view\")\n",
    "    glUniformMatrix4fv(loc_view, 1, GL_TRUE, mat_view)\n",
    "\n",
    "    mat_projection = projection()\n",
    "    loc_projection = glGetUniformLocation(program, \"projection\")\n",
    "    glUniformMatrix4fv(loc_projection, 1, GL_TRUE, mat_projection)    \n",
    "    \n",
    "    # atualizando a posicao da camera/observador na GPU para calculo da reflexao especular\n",
    "    loc_view_pos = glGetUniformLocation(program, \"viewPos\") # recuperando localizacao da variavel viewPos na GPU\n",
    "    glUniform3f(loc_view_pos, cameraPos[0], cameraPos[1], cameraPos[2]) ### posicao da camera/observador (x,y,z)\n",
    "    \n",
    "    glfw.swap_buffers(window)\n",
    "\n",
    "glfw.terminate()"
   ]
  }
 ],
 "metadata": {
  "finalized": {
   "timestamp": 1589232864147,
   "trusted": true
  },
  "kernelspec": {
   "display_name": "Python 3.7.9",
   "language": "python",
   "name": "python3.7.9"
  },
  "language_info": {
   "codemirror_mode": {
    "name": "ipython",
    "version": 3
   },
   "file_extension": ".py",
   "mimetype": "text/x-python",
   "name": "python",
   "nbconvert_exporter": "python",
   "pygments_lexer": "ipython3",
   "version": "3.7.9"
  }
 },
 "nbformat": 4,
 "nbformat_minor": 2
}
